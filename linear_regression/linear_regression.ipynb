{
 "cells": [
  {
   "cell_type": "code",
   "execution_count": 64,
   "metadata": {
    "collapsed": true
   },
   "outputs": [],
   "source": [
    "import torch\n",
    "import torch.nn as nn\n",
    "from torch.autograd import Variable\n",
    "import numpy as np\n",
    "import matplotlib.pyplot as plt"
   ]
  },
  {
   "cell_type": "code",
   "execution_count": 2,
   "metadata": {},
   "outputs": [
    {
     "data": {
      "text/plain": [
       "tensor([[1., 1.],\n",
       "        [1., 1.]], requires_grad=True)"
      ]
     },
     "execution_count": 2,
     "metadata": {},
     "output_type": "execute_result"
    }
   ],
   "source": [
    "a = Variable(torch.ones(2,2), requires_grad = True)\n",
    "a"
   ]
  },
  {
   "cell_type": "code",
   "execution_count": 3,
   "metadata": {},
   "outputs": [
    {
     "data": {
      "text/plain": [
       "tensor([[1., 1.],\n",
       "        [1., 1.]])"
      ]
     },
     "execution_count": 3,
     "metadata": {},
     "output_type": "execute_result"
    }
   ],
   "source": [
    "torch.ones(2,2) "
   ]
  },
  {
   "cell_type": "code",
   "execution_count": 6,
   "metadata": {},
   "outputs": [
    {
     "name": "stdout",
     "output_type": "stream",
     "text": [
      "tensor([[2., 2.],\n",
      "        [2., 2.]], grad_fn=<AddBackward0>)\n",
      "tensor([[2., 2.],\n",
      "        [2., 2.]], grad_fn=<AddBackward0>)\n"
     ]
    }
   ],
   "source": [
    "b = Variable(torch.ones(2,2), requires_grad = True)\n",
    "print(a + b)\n",
    "print(torch.add(a,b))"
   ]
  },
  {
   "cell_type": "code",
   "execution_count": 8,
   "metadata": {},
   "outputs": [
    {
     "name": "stdout",
     "output_type": "stream",
     "text": [
      "tensor([[1., 1.],\n",
      "        [1., 1.]], grad_fn=<MulBackward0>)\n",
      "tensor([[1., 1.],\n",
      "        [1., 1.]], grad_fn=<MulBackward0>)\n"
     ]
    }
   ],
   "source": [
    "print(a*b)\n",
    "print(torch.mul(a,b))"
   ]
  },
  {
   "cell_type": "code",
   "execution_count": 32,
   "metadata": {
    "collapsed": true
   },
   "outputs": [],
   "source": [
    "x = Variable(torch.ones(2), requires_grad = True)"
   ]
  },
  {
   "cell_type": "code",
   "execution_count": 33,
   "metadata": {},
   "outputs": [
    {
     "data": {
      "text/plain": [
       "tensor([20., 20.], grad_fn=<MulBackward0>)"
      ]
     },
     "execution_count": 33,
     "metadata": {},
     "output_type": "execute_result"
    }
   ],
   "source": [
    "y = 5 * (x + 1)**2\n",
    "y"
   ]
  },
  {
   "cell_type": "code",
   "execution_count": 34,
   "metadata": {},
   "outputs": [
    {
     "data": {
      "text/plain": [
       "tensor(20., grad_fn=<MulBackward0>)"
      ]
     },
     "execution_count": 34,
     "metadata": {},
     "output_type": "execute_result"
    }
   ],
   "source": [
    "o = (1/2) * torch.sum(y)\n",
    "o"
   ]
  },
  {
   "cell_type": "code",
   "execution_count": 35,
   "metadata": {},
   "outputs": [],
   "source": [
    "o.backward(retain_graph=True)"
   ]
  },
  {
   "cell_type": "code",
   "execution_count": 36,
   "metadata": {},
   "outputs": [
    {
     "data": {
      "text/plain": [
       "tensor([10., 10.])"
      ]
     },
     "execution_count": 36,
     "metadata": {},
     "output_type": "execute_result"
    }
   ],
   "source": [
    "x.grad"
   ]
  },
  {
   "cell_type": "code",
   "execution_count": 61,
   "metadata": {},
   "outputs": [
    {
     "data": {
      "text/plain": [
       "tensor([70., 70.])"
      ]
     },
     "execution_count": 61,
     "metadata": {},
     "output_type": "execute_result"
    }
   ],
   "source": [
    "o.backward(torch.FloatTensor([1.0,1.0]), retain_graph=True)\n",
    "x.grad"
   ]
  },
  {
   "cell_type": "markdown",
   "metadata": {},
   "source": [
    "## Linear Regression"
   ]
  },
  {
   "cell_type": "code",
   "execution_count": 74,
   "metadata": {},
   "outputs": [],
   "source": [
    "x_values = [i for i in range(10)]"
   ]
  },
  {
   "cell_type": "code",
   "execution_count": 75,
   "metadata": {},
   "outputs": [],
   "source": [
    "x_train = np.array(x_values, dtype = np.float32)"
   ]
  },
  {
   "cell_type": "code",
   "execution_count": 76,
   "metadata": {},
   "outputs": [
    {
     "data": {
      "text/plain": [
       "(10, 1)"
      ]
     },
     "execution_count": 76,
     "metadata": {},
     "output_type": "execute_result"
    }
   ],
   "source": [
    "x_train = x_train.reshape(-1,1)\n",
    "x_train.shape"
   ]
  },
  {
   "cell_type": "code",
   "execution_count": 77,
   "metadata": {
    "collapsed": true
   },
   "outputs": [],
   "source": [
    "y_values = [2*i + 1 for i in x_values]"
   ]
  },
  {
   "cell_type": "code",
   "execution_count": 78,
   "metadata": {
    "collapsed": true
   },
   "outputs": [],
   "source": [
    "y_train = np.array(y_values, dtype = np.float32)"
   ]
  },
  {
   "cell_type": "code",
   "execution_count": 79,
   "metadata": {},
   "outputs": [
    {
     "data": {
      "text/plain": [
       "(10, 1)"
      ]
     },
     "execution_count": 79,
     "metadata": {},
     "output_type": "execute_result"
    }
   ],
   "source": [
    "y_train = y_train.reshape(-1,1)\n",
    "y_train.shape"
   ]
  },
  {
   "cell_type": "code",
   "execution_count": 80,
   "metadata": {
    "collapsed": true
   },
   "outputs": [],
   "source": [
    "class LinearRegression(nn.Module):\n",
    "    def __init__(self, input_size, output_size):\n",
    "        super(LinearRegression, self).__init__()\n",
    "        self.linear = nn.Linear(input_size, output_size)\n",
    "    \n",
    "    def forward(self, x):\n",
    "        out = self.linear(x)\n",
    "        return out"
   ]
  },
  {
   "cell_type": "code",
   "execution_count": 81,
   "metadata": {},
   "outputs": [],
   "source": [
    "input_dim = 1\n",
    "output_dim = 1\n",
    "model = LinearRegression(input_dim, output_dim)\n",
    "\n",
    "if torch.cuda.is_available():\n",
    "    model.cuda()"
   ]
  },
  {
   "cell_type": "code",
   "execution_count": 82,
   "metadata": {
    "collapsed": true
   },
   "outputs": [],
   "source": [
    "criterion = nn.MSELoss()"
   ]
  },
  {
   "cell_type": "code",
   "execution_count": 83,
   "metadata": {},
   "outputs": [],
   "source": [
    "lr = 0.01\n",
    "optimizer = torch.optim.SGD(model.parameters(), lr = lr)"
   ]
  },
  {
   "cell_type": "code",
   "execution_count": 84,
   "metadata": {},
   "outputs": [
    {
     "name": "stdout",
     "output_type": "stream",
     "text": [
      "epoch: 1 loss: 72.83328247070312\n",
      "epoch: 2 loss: 12.827836036682129\n",
      "epoch: 3 loss: 2.4583799839019775\n",
      "epoch: 4 loss: 0.6641968488693237\n",
      "epoch: 5 loss: 0.3515324592590332\n",
      "epoch: 6 loss: 0.2948487102985382\n",
      "epoch: 7 loss: 0.28241923451423645\n",
      "epoch: 8 loss: 0.27766475081443787\n",
      "epoch: 9 loss: 0.27426549792289734\n",
      "epoch: 10 loss: 0.2711295485496521\n",
      "epoch: 11 loss: 0.26806798577308655\n",
      "epoch: 12 loss: 0.2650472819805145\n",
      "epoch: 13 loss: 0.2620619237422943\n",
      "epoch: 14 loss: 0.25911054015159607\n",
      "epoch: 15 loss: 0.2561919391155243\n",
      "epoch: 16 loss: 0.2533067464828491\n",
      "epoch: 17 loss: 0.2504536807537079\n",
      "epoch: 18 loss: 0.24763308465480804\n",
      "epoch: 19 loss: 0.2448439747095108\n",
      "epoch: 20 loss: 0.2420864850282669\n",
      "epoch: 21 loss: 0.23935984075069427\n",
      "epoch: 22 loss: 0.23666401207447052\n",
      "epoch: 23 loss: 0.23399856686592102\n",
      "epoch: 24 loss: 0.23136329650878906\n",
      "epoch: 25 loss: 0.22875738143920898\n",
      "epoch: 26 loss: 0.2261810004711151\n",
      "epoch: 27 loss: 0.22363346815109253\n",
      "epoch: 28 loss: 0.2211148887872696\n",
      "epoch: 29 loss: 0.21862445771694183\n",
      "epoch: 30 loss: 0.21616218984127045\n",
      "epoch: 31 loss: 0.21372762322425842\n",
      "epoch: 32 loss: 0.21132047474384308\n",
      "epoch: 33 loss: 0.20894066989421844\n",
      "epoch: 34 loss: 0.2065872699022293\n",
      "epoch: 35 loss: 0.20426063239574432\n",
      "epoch: 36 loss: 0.20195987820625305\n",
      "epoch: 37 loss: 0.19968540966510773\n",
      "epoch: 38 loss: 0.19743649661540985\n",
      "epoch: 39 loss: 0.19521276652812958\n",
      "epoch: 40 loss: 0.19301415979862213\n",
      "epoch: 41 loss: 0.1908402293920517\n",
      "epoch: 42 loss: 0.1886908859014511\n",
      "epoch: 43 loss: 0.18656568229198456\n",
      "epoch: 44 loss: 0.18446454405784607\n",
      "epoch: 45 loss: 0.18238697946071625\n",
      "epoch: 46 loss: 0.18033282458782196\n",
      "epoch: 47 loss: 0.17830194532871246\n",
      "epoch: 48 loss: 0.17629362642765045\n",
      "epoch: 49 loss: 0.17430804669857025\n",
      "epoch: 50 loss: 0.17234498262405396\n",
      "epoch: 51 loss: 0.17040391266345978\n",
      "epoch: 52 loss: 0.16848458349704742\n",
      "epoch: 53 loss: 0.16658712923526764\n",
      "epoch: 54 loss: 0.16471102833747864\n",
      "epoch: 55 loss: 0.16285593807697296\n",
      "epoch: 56 loss: 0.16102154552936554\n",
      "epoch: 57 loss: 0.1592080444097519\n",
      "epoch: 58 loss: 0.1574150174856186\n",
      "epoch: 59 loss: 0.1556420922279358\n",
      "epoch: 60 loss: 0.1538892239332199\n",
      "epoch: 61 loss: 0.15215586125850677\n",
      "epoch: 62 loss: 0.15044237673282623\n",
      "epoch: 63 loss: 0.1487479954957962\n",
      "epoch: 64 loss: 0.14707264304161072\n",
      "epoch: 65 loss: 0.14541620016098022\n",
      "epoch: 66 loss: 0.14377827942371368\n",
      "epoch: 67 loss: 0.14215916395187378\n",
      "epoch: 68 loss: 0.1405579149723053\n",
      "epoch: 69 loss: 0.1389748901128769\n",
      "epoch: 70 loss: 0.13740980625152588\n",
      "epoch: 71 loss: 0.13586202263832092\n",
      "epoch: 72 loss: 0.1343318521976471\n",
      "epoch: 73 loss: 0.13281896710395813\n",
      "epoch: 74 loss: 0.13132305443286896\n",
      "epoch: 75 loss: 0.12984400987625122\n",
      "epoch: 76 loss: 0.1283816397190094\n",
      "epoch: 77 loss: 0.12693585455417633\n",
      "epoch: 78 loss: 0.12550605833530426\n",
      "epoch: 79 loss: 0.1240924596786499\n",
      "epoch: 80 loss: 0.12269503623247147\n",
      "epoch: 81 loss: 0.12131306529045105\n",
      "epoch: 82 loss: 0.11994665861129761\n",
      "epoch: 83 loss: 0.11859583109617233\n",
      "epoch: 84 loss: 0.11726014316082001\n",
      "epoch: 85 loss: 0.11593947559595108\n",
      "epoch: 86 loss: 0.11463376879692078\n",
      "epoch: 87 loss: 0.11334270983934402\n",
      "epoch: 88 loss: 0.11206601560115814\n",
      "epoch: 89 loss: 0.11080390959978104\n",
      "epoch: 90 loss: 0.10955604910850525\n",
      "epoch: 91 loss: 0.10832206159830093\n",
      "epoch: 92 loss: 0.10710204392671585\n",
      "epoch: 93 loss: 0.10589588433504105\n",
      "epoch: 94 loss: 0.1047031357884407\n",
      "epoch: 95 loss: 0.10352399945259094\n",
      "epoch: 96 loss: 0.10235796868801117\n",
      "epoch: 97 loss: 0.10120527446269989\n",
      "epoch: 98 loss: 0.10006526112556458\n",
      "epoch: 99 loss: 0.09893842786550522\n",
      "epoch: 100 loss: 0.09782397747039795\n"
     ]
    }
   ],
   "source": [
    "epochs = 100\n",
    "for e in range(epochs):\n",
    "    e+=1\n",
    "    \n",
    "    if torch.cuda.is_available():\n",
    "        inputs = Variable(torch.from_numpy(x_train).cuda())\n",
    "        labels = Variable(torch.from_numpy(y_train).cuda())\n",
    "    else:\n",
    "        inputs = Variable(torch.from_numpy(x_train))\n",
    "        labels = Variable(torch.from_numpy(y_train))\n",
    "    \n",
    "    optimizer.zero_grad()\n",
    "    \n",
    "    outputs = model(inputs)\n",
    "    \n",
    "    loss = criterion(outputs, labels)\n",
    "    \n",
    "    loss.backward()\n",
    "    \n",
    "    optimizer.step()\n",
    "    \n",
    "    print(\"epoch: {} loss: {}\".format(e,loss.data))"
   ]
  },
  {
   "cell_type": "code",
   "execution_count": 85,
   "metadata": {},
   "outputs": [
    {
     "data": {
      "text/plain": [
       "array([[ 0.42203  ],\n",
       "       [ 2.5142016],\n",
       "       [ 4.6063733],\n",
       "       [ 6.698545 ],\n",
       "       [ 8.790717 ],\n",
       "       [10.882889 ],\n",
       "       [12.97506  ],\n",
       "       [15.067232 ],\n",
       "       [17.159403 ],\n",
       "       [19.251574 ]], dtype=float32)"
      ]
     },
     "execution_count": 85,
     "metadata": {},
     "output_type": "execute_result"
    }
   ],
   "source": [
    "pred = model(Variable(torch.from_numpy(x_train))).data.numpy()\n",
    "pred"
   ]
  },
  {
   "cell_type": "code",
   "execution_count": 86,
   "metadata": {},
   "outputs": [
    {
     "data": {
      "text/plain": [
       "array([[ 1.],\n",
       "       [ 3.],\n",
       "       [ 5.],\n",
       "       [ 7.],\n",
       "       [ 9.],\n",
       "       [11.],\n",
       "       [13.],\n",
       "       [15.],\n",
       "       [17.],\n",
       "       [19.]], dtype=float32)"
      ]
     },
     "execution_count": 86,
     "metadata": {},
     "output_type": "execute_result"
    }
   ],
   "source": [
    "y_train"
   ]
  },
  {
   "cell_type": "code",
   "execution_count": 87,
   "metadata": {},
   "outputs": [
    {
     "data": {
      "image/png": "[encoded data removed]",
      "text/plain": [
       "<matplotlib.figure.Figure at 0x7fccc85e46a0>"
      ]
     },
     "metadata": {},
     "output_type": "display_data"
    }
   ],
   "source": [
    "plt.clf()\n",
    "\n",
    "plt.plot(x_train, y_train, 'go', label = 'true data', alpha = 0.5)\n",
    "plt.plot(x_train, pred, '--', label = 'pred data', alpha = 0.5)\n",
    "\n",
    "plt.legend(loc='best')\n",
    "plt.show()"
   ]
  },
  {
   "cell_type": "code",
   "execution_count": 68,
   "metadata": {
    "collapsed": true
   },
   "outputs": [],
   "source": [
    "save_model = False\n",
    "if save_model:\n",
    "    torch.save(model.state_dict(), 'lin_reg_model.pkl')"
   ]
  },
  {
   "cell_type": "code",
   "execution_count": 69,
   "metadata": {
    "collapsed": true
   },
   "outputs": [],
   "source": [
    "load_model = False\n",
    "if load_model:\n",
    "    model.load_state_dict(torch.load('lin_reg_model.pkl'))"
   ]
  },
  {
   "cell_type": "code",
   "execution_count": null,
   "metadata": {
    "collapsed": true
   },
   "outputs": [],
   "source": []
  }
 ],
 "metadata": {
  "kernelspec": {
   "display_name": "Python 3",
   "language": "python",
   "name": "python3"
  },
  "language_info": {
   "codemirror_mode": {
    "name": "ipython",
    "version": 3
   },
   "file_extension": ".py",
   "mimetype": "text/x-python",
   "name": "python",
   "nbconvert_exporter": "python",
   "pygments_lexer": "ipython3",
   "version": "3.5.2"
  }
 },
 "nbformat": 4,
 "nbformat_minor": 2
}
